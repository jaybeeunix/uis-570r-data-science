{
 "cells": [
  {
   "cell_type": "markdown",
   "metadata": {},
   "source": [
    "## Week 5, Boston Housing\n",
    "UIS CSC 570R - Data Science Essentials<br>\n",
    "2017 Fall<br>\n",
    "Jason Burrell<br>\n",
    "\n",
    "Linear Regression to estimate the cost of housing in Boston, based on https://github.com/mbernico/CS570/blob/master/module_2/boston_assignment.ipynb\n",
    "\n",
    "\n",
    "## Boston Housing Assignment\n",
    "\n",
    "In this assignment you'll be using linear regression to estimate the cost of house in boston, using a well known dataset.\n",
    "\n",
    "Goals:\n",
    "+  Measure the performance of the model I created using $R^{2}$ and MSE\n",
    "> Learn how to use sklearn.metrics.r2_score and sklearn.metrics.mean_squared_error\n",
    "+  Implement a new model using L2 regularization\n",
    "> Use sklearn.linear_model.Ridge or sklearn.linear_model.Lasso \n",
    "+  Get the best model you can by optimizing the regularization parameter.   "
   ]
  },
  {
   "cell_type": "code",
   "execution_count": 1,
   "metadata": {},
   "outputs": [
    {
     "name": "stderr",
     "output_type": "stream",
     "text": [
      "/usr/lib64/python3.6/site-packages/sklearn/cross_validation.py:44: DeprecationWarning: This module was deprecated in version 0.18 in favor of the model_selection module into which all the refactored classes and functions are moved. Also note that the interface of the new CV iterators are different from that of this module. This module will be removed in 0.20.\n",
      "  \"This module will be removed in 0.20.\", DeprecationWarning)\n"
     ]
    }
   ],
   "source": [
    "from sklearn import datasets\n",
    "import pandas as pd\n",
    "from sklearn.preprocessing import StandardScaler\n",
    "from sklearn.cross_validation import train_test_split\n",
    "from sklearn.metrics import mean_squared_error\n",
    "from sklearn.metrics import r2_score\n",
    "from sklearn.linear_model import LinearRegression"
   ]
  },
  {
   "cell_type": "code",
   "execution_count": 2,
   "metadata": {},
   "outputs": [
    {
     "name": "stdout",
     "output_type": "stream",
     "text": [
      "Boston House Prices dataset\n",
      "===========================\n",
      "\n",
      "Notes\n",
      "------\n",
      "Data Set Characteristics:  \n",
      "\n",
      "    :Number of Instances: 506 \n",
      "\n",
      "    :Number of Attributes: 13 numeric/categorical predictive\n",
      "    \n",
      "    :Median Value (attribute 14) is usually the target\n",
      "\n",
      "    :Attribute Information (in order):\n",
      "        - CRIM     per capita crime rate by town\n",
      "        - ZN       proportion of residential land zoned for lots over 25,000 sq.ft.\n",
      "        - INDUS    proportion of non-retail business acres per town\n",
      "        - CHAS     Charles River dummy variable (= 1 if tract bounds river; 0 otherwise)\n",
      "        - NOX      nitric oxides concentration (parts per 10 million)\n",
      "        - RM       average number of rooms per dwelling\n",
      "        - AGE      proportion of owner-occupied units built prior to 1940\n",
      "        - DIS      weighted distances to five Boston employment centres\n",
      "        - RAD      index of accessibility to radial highways\n",
      "        - TAX      full-value property-tax rate per $10,000\n",
      "        - PTRATIO  pupil-teacher ratio by town\n",
      "        - B        1000(Bk - 0.63)^2 where Bk is the proportion of blacks by town\n",
      "        - LSTAT    % lower status of the population\n",
      "        - MEDV     Median value of owner-occupied homes in $1000's\n",
      "\n",
      "    :Missing Attribute Values: None\n",
      "\n",
      "    :Creator: Harrison, D. and Rubinfeld, D.L.\n",
      "\n",
      "This is a copy of UCI ML housing dataset.\n",
      "http://archive.ics.uci.edu/ml/datasets/Housing\n",
      "\n",
      "\n",
      "This dataset was taken from the StatLib library which is maintained at Carnegie Mellon University.\n",
      "\n",
      "The Boston house-price data of Harrison, D. and Rubinfeld, D.L. 'Hedonic\n",
      "prices and the demand for clean air', J. Environ. Economics & Management,\n",
      "vol.5, 81-102, 1978.   Used in Belsley, Kuh & Welsch, 'Regression diagnostics\n",
      "...', Wiley, 1980.   N.B. Various transformations are used in the table on\n",
      "pages 244-261 of the latter.\n",
      "\n",
      "The Boston house-price data has been used in many machine learning papers that address regression\n",
      "problems.   \n",
      "     \n",
      "**References**\n",
      "\n",
      "   - Belsley, Kuh & Welsch, 'Regression diagnostics: Identifying Influential Data and Sources of Collinearity', Wiley, 1980. 244-261.\n",
      "   - Quinlan,R. (1993). Combining Instance-Based and Model-Based Learning. In Proceedings on the Tenth International Conference of Machine Learning, 236-243, University of Massachusetts, Amherst. Morgan Kaufmann.\n",
      "   - many more! (see http://archive.ics.uci.edu/ml/datasets/Housing)\n",
      "\n"
     ]
    }
   ],
   "source": [
    "bean = datasets.load_boston()\n",
    "print(bean.DESCR)"
   ]
  },
  {
   "cell_type": "code",
   "execution_count": 3,
   "metadata": {},
   "outputs": [],
   "source": [
    "def load_boston():\n",
    "    scaler = StandardScaler()\n",
    "    boston = datasets.load_boston()\n",
    "    X=boston.data\n",
    "    y=boston.target\n",
    "    X = scaler.fit_transform(X)\n",
    "    return train_test_split(X,y)\n",
    "    "
   ]
  },
  {
   "cell_type": "code",
   "execution_count": 4,
   "metadata": {},
   "outputs": [],
   "source": [
    "X_train, X_test, y_train, y_test = load_boston()"
   ]
  },
  {
   "cell_type": "code",
   "execution_count": 5,
   "metadata": {},
   "outputs": [
    {
     "data": {
      "text/plain": [
       "(379, 13)"
      ]
     },
     "execution_count": 5,
     "metadata": {},
     "output_type": "execute_result"
    }
   ],
   "source": [
    "X_train.shape"
   ]
  },
  {
   "cell_type": "markdown",
   "metadata": {},
   "source": [
    "### Fitting a Linear Regression\n",
    "\n",
    "It's as easy as instantiating a new regression object (line 1) and giving your regression object your training data\n",
    "(line 2) by calling .fit(independent variables, dependent variable)\n",
    "\n"
   ]
  },
  {
   "cell_type": "code",
   "execution_count": 6,
   "metadata": {},
   "outputs": [
    {
     "data": {
      "text/plain": [
       "LinearRegression(copy_X=True, fit_intercept=True, n_jobs=1, normalize=False)"
      ]
     },
     "execution_count": 6,
     "metadata": {},
     "output_type": "execute_result"
    }
   ],
   "source": [
    "\n",
    "clf = LinearRegression()\n",
    "clf.fit(X_train, y_train)"
   ]
  },
  {
   "cell_type": "markdown",
   "metadata": {},
   "source": [
    "### Making a Prediction\n",
    "X_test is our holdout set of data.  We know the answer (y_test) but the computer does not.   \n",
    "\n",
    "Using the command below, I create a tuple for each observation, where I'm combining the real value (y_test) with\n",
    "the value our regressor predicts (clf.predict(X_test))\n",
    "\n",
    "Use a similiar format to get your r2 and mse metrics working.  Using the [scikit learn api](http://scikit-learn.org/stable/modules/model_evaluation.html) if you need help!"
   ]
  },
  {
   "cell_type": "code",
   "execution_count": 7,
   "metadata": {},
   "outputs": [
    {
     "data": {
      "text/plain": [
       "[(18.199999999999999, 19.662362593707851),\n",
       " (23.0, 23.765219951453126),\n",
       " (17.5, 16.481847413521429),\n",
       " (23.300000000000001, 25.617926601065271),\n",
       " (36.399999999999999, 32.806756107367669),\n",
       " (23.399999999999999, 23.73243634720216),\n",
       " (19.0, 14.652860511621414),\n",
       " (30.100000000000001, 29.918343850902829),\n",
       " (17.0, 22.339683850280036),\n",
       " (20.100000000000001, 15.945787314147164),\n",
       " (22.199999999999999, 24.153243826543967),\n",
       " (21.0, 22.890489804229944),\n",
       " (21.800000000000001, 20.334598700800754),\n",
       " (14.5, 18.301996393411606),\n",
       " (14.6, 7.7114083883951032),\n",
       " (27.5, 32.472673063477487),\n",
       " (23.699999999999999, 9.9252028395426599),\n",
       " (13.9, 17.66776435991892),\n",
       " (22.600000000000001, 23.594422612163566),\n",
       " (19.899999999999999, 17.918600437253541),\n",
       " (43.5, 39.051792135987881),\n",
       " (17.800000000000001, 23.02665100561449),\n",
       " (7.0, -5.8250057383508427),\n",
       " (21.800000000000001, 21.202913067719575),\n",
       " (21.699999999999999, 20.531833775530693),\n",
       " (18.699999999999999, 20.637775164175704),\n",
       " (14.199999999999999, 18.454024145246837),\n",
       " (7.5, 13.324389682854013),\n",
       " (27.100000000000001, 19.523594073773712),\n",
       " (20.0, 22.996872861932218),\n",
       " (9.6999999999999993, 9.7310209372498129),\n",
       " (33.200000000000003, 36.061536981954568),\n",
       " (18.5, 19.445562913153164),\n",
       " (37.299999999999997, 34.82028167073409),\n",
       " (7.4000000000000004, 4.8765937089879223),\n",
       " (23.300000000000001, 28.426739819466981),\n",
       " (8.4000000000000004, 4.4082652123385593),\n",
       " (28.5, 33.824239680768045),\n",
       " (21.899999999999999, 38.649189421215453),\n",
       " (24.600000000000001, 29.078774725734753),\n",
       " (24.399999999999999, 28.633926404840494),\n",
       " (21.699999999999999, 24.078917364669451),\n",
       " (21.699999999999999, 21.345203791038365),\n",
       " (23.199999999999999, 27.084379272659071),\n",
       " (23.100000000000001, 24.27101147116592),\n",
       " (22.0, 26.614890983480912),\n",
       " (24.100000000000001, 20.953342925556406),\n",
       " (36.200000000000003, 27.540260459757192),\n",
       " (15.0, 14.32060127609895),\n",
       " (29.100000000000001, 30.235976078772204),\n",
       " (23.5, 30.284340526123977),\n",
       " (46.700000000000003, 35.207012006764415),\n",
       " (20.600000000000001, 27.324863499916461),\n",
       " (16.100000000000001, 17.834649980045388),\n",
       " (21.699999999999999, 23.856590763005642),\n",
       " (23.199999999999999, 25.164106489697993),\n",
       " (20.399999999999999, 20.8731238657872),\n",
       " (46.0, 40.629506887207427),\n",
       " (16.800000000000001, 20.809503466857546),\n",
       " (20.300000000000001, 22.137514440566282),\n",
       " (15.300000000000001, 19.946374752487021),\n",
       " (25.0, 24.299098368261024),\n",
       " (31.100000000000001, 31.799308639927688),\n",
       " (20.600000000000001, 22.114671080240498),\n",
       " (50.0, 35.604135287814344),\n",
       " (20.100000000000001, 21.677656011015721),\n",
       " (22.300000000000001, 27.407343585371052),\n",
       " (14.300000000000001, 14.204473297204173),\n",
       " (23.100000000000001, 10.735015995663732),\n",
       " (19.399999999999999, 16.955839922347181),\n",
       " (23.600000000000001, 30.898680872008786),\n",
       " (20.699999999999999, 25.847941343765768),\n",
       " (25.100000000000001, 30.457827251415917),\n",
       " (21.899999999999999, 15.827676883907493),\n",
       " (19.399999999999999, 25.385853581944446),\n",
       " (20.600000000000001, 17.218155763682812),\n",
       " (18.899999999999999, 21.582942241720819),\n",
       " (41.299999999999997, 33.394178088921706),\n",
       " (14.9, 17.450103306690096),\n",
       " (19.399999999999999, 16.991532691172186),\n",
       " (34.899999999999999, 34.346359280229962),\n",
       " (13.9, 13.535788576336572),\n",
       " (24.699999999999999, 25.185147118885162),\n",
       " (10.5, 5.4885716366983957),\n",
       " (24.699999999999999, 24.093197813937508),\n",
       " (19.199999999999999, 23.656236610275005),\n",
       " (28.399999999999999, 30.935297763428867),\n",
       " (18.199999999999999, 18.50980527795403),\n",
       " (50.0, 33.603987710492881),\n",
       " (17.800000000000001, 20.160430719089515),\n",
       " (19.899999999999999, 20.53786776127582),\n",
       " (11.699999999999999, 14.49503784979038),\n",
       " (19.100000000000001, 24.096848907264803),\n",
       " (16.100000000000001, 21.775732887946674),\n",
       " (19.399999999999999, 23.008962723416836),\n",
       " (13.800000000000001, 20.518005991564753),\n",
       " (16.300000000000001, 11.278710119516109),\n",
       " (13.300000000000001, 16.293773810461822),\n",
       " (22.199999999999999, 19.211983143819111),\n",
       " (20.399999999999999, 19.745376288726305),\n",
       " (20.399999999999999, 22.879497291909164),\n",
       " (11.699999999999999, 16.110083572264784),\n",
       " (11.0, 14.236042031832397),\n",
       " (16.699999999999999, 20.926862989055817),\n",
       " (29.100000000000001, 31.326674034563972),\n",
       " (29.600000000000001, 25.059841609434741),\n",
       " (19.899999999999999, 19.400344832106956),\n",
       " (28.699999999999999, 30.816548925267021),\n",
       " (29.600000000000001, 24.561405722598224),\n",
       " (32.700000000000003, 30.360051015524071),\n",
       " (26.600000000000001, 27.801540895423891),\n",
       " (19.600000000000001, 23.52031199159039),\n",
       " (21.699999999999999, 22.688782411735843),\n",
       " (17.5, 17.119130736760923),\n",
       " (50.0, 40.691515489300997),\n",
       " (23.100000000000001, 16.210682027885625),\n",
       " (17.100000000000001, 17.547915264030443),\n",
       " (22.800000000000001, 27.59649609993258),\n",
       " (42.299999999999997, 36.978803988903955),\n",
       " (15.1, 17.502004932082201),\n",
       " (25.0, 29.197377395891422),\n",
       " (16.5, 11.213989470236562),\n",
       " (15.6, 13.483838877997464),\n",
       " (7.2000000000000002, 9.2996015509723939),\n",
       " (13.800000000000001, 16.582534109785172),\n",
       " (50.0, 42.396398493791068),\n",
       " (50.0, 43.464679941659909)]"
      ]
     },
     "execution_count": 7,
     "metadata": {},
     "output_type": "execute_result"
    }
   ],
   "source": [
    "list(zip (y_test, clf.predict(X_test)))"
   ]
  },
  {
   "cell_type": "code",
   "execution_count": 8,
   "metadata": {},
   "outputs": [
    {
     "data": {
      "text/plain": [
       "(0.70510085614841167, 25.409086173432673)"
      ]
     },
     "execution_count": 8,
     "metadata": {},
     "output_type": "execute_result"
    }
   ],
   "source": [
    "y_pred_linear = clf.predict(X_test)\n",
    "r2_score(y_test, y_pred_linear), mean_squared_error(y_test, y_pred_linear)"
   ]
  },
  {
   "cell_type": "code",
   "execution_count": 9,
   "metadata": {},
   "outputs": [
    {
     "data": {
      "text/plain": [
       "[{'model': 'LinearRegression',\n",
       "  'mse': 25.409086173432673,\n",
       "  'r2': 0.70510085614841167}]"
      ]
     },
     "execution_count": 9,
     "metadata": {},
     "output_type": "execute_result"
    }
   ],
   "source": [
    "mean_squared_error(y_test, y_pred_linear)\n",
    "Linear_tests = [{'model': 'LinearRegression',\n",
    "                'r2': r2_score(y_test, y_pred_linear),\n",
    "                'mse': mean_squared_error(y_test, y_pred_linear),\n",
    "               }]\n",
    "Linear_tests"
   ]
  },
  {
   "cell_type": "code",
   "execution_count": 10,
   "metadata": {},
   "outputs": [
    {
     "data": {
      "text/plain": [
       "{'alpha': 1.0,\n",
       " 'model': 'Ridge',\n",
       " 'mse': 25.375887266453876,\n",
       " 'r2': 0.70548616434792866}"
      ]
     },
     "execution_count": 10,
     "metadata": {},
     "output_type": "execute_result"
    }
   ],
   "source": [
    "def measure_perf_of_model(model, alpha, X_train, y_train, X_test, y_test):\n",
    "    clf = model(alpha=alpha)\n",
    "    clf.fit(X_train, y_train)\n",
    "    y_pred = clf.predict(X_test)\n",
    "    r2 = r2_score(y_test, y_pred)\n",
    "    mse = mean_squared_error(y_test, y_pred)\n",
    "    out = {'model': model.__name__, 'alpha': alpha, 'r2': r2, 'mse': mse}\n",
    "    #print('%(name)s(alpha=%(alpha)f): r2_score = %(r2)f, mean_squared_error = %(mse)f' % out)\n",
    "    return out\n",
    "\n",
    "from sklearn.linear_model import Ridge\n",
    "measure_perf_of_model(Ridge, 1.0, X_train, y_train, X_test, y_test)"
   ]
  },
  {
   "cell_type": "code",
   "execution_count": 11,
   "metadata": {},
   "outputs": [],
   "source": [
    "import numpy\n",
    "\n",
    "alphas = numpy.append(numpy.linspace(0.0001, 100, 400), numpy.arange(10, 100))\n",
    "\n",
    "Ridge_tests = [measure_perf_of_model(Ridge, a, X_train, y_train, X_test, y_test) for a in alphas]\n",
    "\n",
    "from sklearn.linear_model import Lasso\n",
    "Lasso_tests = [measure_perf_of_model(Lasso, a, X_train, y_train, X_test, y_test) for a in alphas]\n"
   ]
  },
  {
   "cell_type": "code",
   "execution_count": 12,
   "metadata": {},
   "outputs": [
    {
     "data": {
      "text/html": [
       "<div>\n",
       "<style>\n",
       "    .dataframe thead tr:only-child th {\n",
       "        text-align: right;\n",
       "    }\n",
       "\n",
       "    .dataframe thead th {\n",
       "        text-align: left;\n",
       "    }\n",
       "\n",
       "    .dataframe tbody tr th {\n",
       "        vertical-align: top;\n",
       "    }\n",
       "</style>\n",
       "<table border=\"1\" class=\"dataframe\">\n",
       "  <thead>\n",
       "    <tr style=\"text-align: right;\">\n",
       "      <th></th>\n",
       "      <th>alpha</th>\n",
       "      <th>mse</th>\n",
       "      <th>r2</th>\n",
       "    </tr>\n",
       "  </thead>\n",
       "  <tbody>\n",
       "    <tr>\n",
       "      <th>count</th>\n",
       "      <td>980.000000</td>\n",
       "      <td>981.000000</td>\n",
       "      <td>981.000000</td>\n",
       "    </tr>\n",
       "    <tr>\n",
       "      <th>mean</th>\n",
       "      <td>50.826571</td>\n",
       "      <td>54.907123</td>\n",
       "      <td>0.362745</td>\n",
       "    </tr>\n",
       "    <tr>\n",
       "      <th>std</th>\n",
       "      <td>28.487000</td>\n",
       "      <td>29.982503</td>\n",
       "      <td>0.347978</td>\n",
       "    </tr>\n",
       "    <tr>\n",
       "      <th>min</th>\n",
       "      <td>0.000100</td>\n",
       "      <td>25.242233</td>\n",
       "      <td>-0.000551</td>\n",
       "    </tr>\n",
       "    <tr>\n",
       "      <th>25%</th>\n",
       "      <td>26.315863</td>\n",
       "      <td>25.639464</td>\n",
       "      <td>-0.000551</td>\n",
       "    </tr>\n",
       "    <tr>\n",
       "      <th>50%</th>\n",
       "      <td>50.938621</td>\n",
       "      <td>26.496308</td>\n",
       "      <td>0.692483</td>\n",
       "    </tr>\n",
       "    <tr>\n",
       "      <th>75%</th>\n",
       "      <td>75.438621</td>\n",
       "      <td>86.209461</td>\n",
       "      <td>0.702427</td>\n",
       "    </tr>\n",
       "    <tr>\n",
       "      <th>max</th>\n",
       "      <td>100.000000</td>\n",
       "      <td>86.209461</td>\n",
       "      <td>0.707037</td>\n",
       "    </tr>\n",
       "  </tbody>\n",
       "</table>\n",
       "</div>"
      ],
      "text/plain": [
       "            alpha         mse          r2\n",
       "count  980.000000  981.000000  981.000000\n",
       "mean    50.826571   54.907123    0.362745\n",
       "std     28.487000   29.982503    0.347978\n",
       "min      0.000100   25.242233   -0.000551\n",
       "25%     26.315863   25.639464   -0.000551\n",
       "50%     50.938621   26.496308    0.692483\n",
       "75%     75.438621   86.209461    0.702427\n",
       "max    100.000000   86.209461    0.707037"
      ]
     },
     "execution_count": 12,
     "metadata": {},
     "output_type": "execute_result"
    }
   ],
   "source": [
    "import pandas\n",
    "df = pandas.DataFrame(Linear_tests + Ridge_tests + Lasso_tests)\n",
    "df.describe()"
   ]
  },
  {
   "cell_type": "code",
   "execution_count": 13,
   "metadata": {},
   "outputs": [
    {
     "data": {
      "text/html": [
       "<div>\n",
       "<style>\n",
       "    .dataframe thead tr:only-child th {\n",
       "        text-align: right;\n",
       "    }\n",
       "\n",
       "    .dataframe thead th {\n",
       "        text-align: left;\n",
       "    }\n",
       "\n",
       "    .dataframe tbody tr th {\n",
       "        vertical-align: top;\n",
       "    }\n",
       "</style>\n",
       "<table border=\"1\" class=\"dataframe\">\n",
       "  <thead>\n",
       "    <tr style=\"text-align: right;\">\n",
       "      <th></th>\n",
       "      <th>alpha</th>\n",
       "      <th>model</th>\n",
       "      <th>mse</th>\n",
       "      <th>r2</th>\n",
       "    </tr>\n",
       "  </thead>\n",
       "  <tbody>\n",
       "    <tr>\n",
       "      <th>51</th>\n",
       "      <td>12.531416</td>\n",
       "      <td>Ridge</td>\n",
       "      <td>25.242233</td>\n",
       "      <td>0.707037</td>\n",
       "    </tr>\n",
       "  </tbody>\n",
       "</table>\n",
       "</div>"
      ],
      "text/plain": [
       "        alpha  model        mse        r2\n",
       "51  12.531416  Ridge  25.242233  0.707037"
      ]
     },
     "execution_count": 13,
     "metadata": {},
     "output_type": "execute_result"
    }
   ],
   "source": [
    "df[df.mse == df.mse.min()]"
   ]
  },
  {
   "cell_type": "code",
   "execution_count": 14,
   "metadata": {},
   "outputs": [
    {
     "data": {
      "text/html": [
       "<div>\n",
       "<style>\n",
       "    .dataframe thead tr:only-child th {\n",
       "        text-align: right;\n",
       "    }\n",
       "\n",
       "    .dataframe thead th {\n",
       "        text-align: left;\n",
       "    }\n",
       "\n",
       "    .dataframe tbody tr th {\n",
       "        vertical-align: top;\n",
       "    }\n",
       "</style>\n",
       "<table border=\"1\" class=\"dataframe\">\n",
       "  <thead>\n",
       "    <tr style=\"text-align: right;\">\n",
       "      <th></th>\n",
       "      <th>alpha</th>\n",
       "      <th>model</th>\n",
       "      <th>mse</th>\n",
       "      <th>r2</th>\n",
       "    </tr>\n",
       "  </thead>\n",
       "  <tbody>\n",
       "    <tr>\n",
       "      <th>51</th>\n",
       "      <td>12.531416</td>\n",
       "      <td>Ridge</td>\n",
       "      <td>25.242233</td>\n",
       "      <td>0.707037</td>\n",
       "    </tr>\n",
       "  </tbody>\n",
       "</table>\n",
       "</div>"
      ],
      "text/plain": [
       "        alpha  model        mse        r2\n",
       "51  12.531416  Ridge  25.242233  0.707037"
      ]
     },
     "execution_count": 14,
     "metadata": {},
     "output_type": "execute_result"
    }
   ],
   "source": [
    "df[df.r2 == df.r2.max()]"
   ]
  },
  {
   "cell_type": "markdown",
   "metadata": {},
   "source": [
    "Using Ridge(alpha=12.531416) is the best model from this run."
   ]
  },
  {
   "cell_type": "code",
   "execution_count": null,
   "metadata": {
    "collapsed": true
   },
   "outputs": [],
   "source": []
  }
 ],
 "metadata": {
  "kernelspec": {
   "display_name": "Python 3",
   "language": "python",
   "name": "python3"
  },
  "language_info": {
   "codemirror_mode": {
    "name": "ipython",
    "version": 3
   },
   "file_extension": ".py",
   "mimetype": "text/x-python",
   "name": "python",
   "nbconvert_exporter": "python",
   "pygments_lexer": "ipython3",
   "version": "3.6.2"
  }
 },
 "nbformat": 4,
 "nbformat_minor": 1
}
